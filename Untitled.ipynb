{
 "cells": [
  {
   "cell_type": "code",
   "execution_count": 1,
   "id": "fbe52aac",
   "metadata": {},
   "outputs": [
    {
     "name": "stdout",
     "output_type": "stream",
     "text": [
      "Encoded Names: ['yyvh', 'myeje', 'vkz', 'wfyg']\n",
      "Decoded Name: John\n"
     ]
    }
   ],
   "source": [
    "import random\n",
    "\n",
    "# Function to pseudonymize a name\n",
    "def pseudonymize_name(name):\n",
    "    # Generate a random pseudonym\n",
    "    pseudonym = ''.join(random.choice('abcdefghijklmnopqrstuvwxyz') for _ in range(len(name)))\n",
    "    return pseudonym\n",
    "\n",
    "# Function to encode a column of names to unidentified text\n",
    "def encode_names(names):\n",
    "    encoded_names = []\n",
    "    for name in names:\n",
    "        encoded_name = pseudonymize_name(name)\n",
    "        encoded_names.append(encoded_name)\n",
    "    return encoded_names\n",
    "\n",
    "# Function to decode an encoded name\n",
    "def decode_name(encoded_name, original_names, encoded_names):\n",
    "    if encoded_name in encoded_names:\n",
    "        index = encoded_names.index(encoded_name)\n",
    "        return original_names[index]\n",
    "    else:\n",
    "        return \"Name not found.\"\n",
    "\n",
    "# Example usage\n",
    "names = [\"John\", \"Alice\", \"Bob\", \"Jane\"]\n",
    "\n",
    "# Encode the names\n",
    "encoded_names = encode_names(names)\n",
    "print(\"Encoded Names:\", encoded_names)\n",
    "\n",
    "# Decode an encoded name\n",
    "encoded_name = encoded_names[0]\n",
    "decoded_name = decode_name(encoded_name, names, encoded_names)\n",
    "print(\"Decoded Name:\", decoded_name)\n"
   ]
  },
  {
   "cell_type": "code",
   "execution_count": null,
   "id": "805566ce",
   "metadata": {},
   "outputs": [],
   "source": []
  }
 ],
 "metadata": {
  "kernelspec": {
   "display_name": "Python 3 (ipykernel)",
   "language": "python",
   "name": "python3"
  },
  "language_info": {
   "codemirror_mode": {
    "name": "ipython",
    "version": 3
   },
   "file_extension": ".py",
   "mimetype": "text/x-python",
   "name": "python",
   "nbconvert_exporter": "python",
   "pygments_lexer": "ipython3",
   "version": "3.10.9"
  }
 },
 "nbformat": 4,
 "nbformat_minor": 5
}
